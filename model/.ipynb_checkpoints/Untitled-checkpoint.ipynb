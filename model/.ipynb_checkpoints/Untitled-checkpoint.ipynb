{
 "cells": [
  {
   "cell_type": "markdown",
   "id": "f750efc4-f876-4720-8b88-e7bf310545d0",
   "metadata": {},
   "source": [
    "# Importação das Bibliotecas"
   ]
  },
  {
   "cell_type": "code",
   "execution_count": 154,
   "id": "753d5fcf-a79e-4a40-94c1-3214affae8bb",
   "metadata": {
    "execution": {
     "iopub.execute_input": "2025-10-06T22:33:09.922580Z",
     "iopub.status.busy": "2025-10-06T22:33:09.922118Z",
     "iopub.status.idle": "2025-10-06T22:33:09.926484Z",
     "shell.execute_reply": "2025-10-06T22:33:09.925524Z",
     "shell.execute_reply.started": "2025-10-06T22:33:09.922549Z"
    }
   },
   "outputs": [],
   "source": [
    "import pandas as pd\n",
    "import boto3\n",
    "import io\n",
    "import pyarrow.parquet as pq\n",
    "from sklearn.model_selection import train_test_split"
   ]
  },
  {
   "cell_type": "markdown",
   "id": "8c60258f-ea5e-4f3f-94a1-8c2c3b1d1ce2",
   "metadata": {},
   "source": [
    "# Coleta dos dados"
   ]
  },
  {
   "cell_type": "code",
   "execution_count": 50,
   "id": "92f13d04-253c-4f3c-b18d-e0ccae41de04",
   "metadata": {
    "execution": {
     "iopub.execute_input": "2025-10-06T20:42:16.551484Z",
     "iopub.status.busy": "2025-10-06T20:42:16.551210Z",
     "iopub.status.idle": "2025-10-06T20:42:16.560726Z",
     "shell.execute_reply": "2025-10-06T20:42:16.560027Z",
     "shell.execute_reply.started": "2025-10-06T20:42:16.551464Z"
    }
   },
   "outputs": [],
   "source": [
    "# Criação do client do S3 \n",
    "s3 = boto3.client('s3')\n",
    "\n",
    "bucket = \"bucket-518893645065\"\n",
    "prefix_raw = \"weather_data/raw/\"\n",
    "file_historico = \"weather_data/history/historical_data.csv\""
   ]
  },
  {
   "cell_type": "code",
   "execution_count": 131,
   "id": "9f49222f-c1fd-4ceb-b0fb-fff74f71c5cf",
   "metadata": {
    "execution": {
     "iopub.execute_input": "2025-10-06T21:44:47.258218Z",
     "iopub.status.busy": "2025-10-06T21:44:47.257951Z",
     "iopub.status.idle": "2025-10-06T21:45:01.344449Z",
     "shell.execute_reply": "2025-10-06T21:45:01.343506Z",
     "shell.execute_reply.started": "2025-10-06T21:44:47.258198Z"
    }
   },
   "outputs": [],
   "source": [
    "# Busca e baixa os arquivos salvos diariamente a partir da api da OpenWeather\n",
    "response = s3.list_objects_v2( \n",
    "    Bucket=bucket,\n",
    "    Prefix=prefix_raw)\n",
    "\n",
    "arquivos_raw = [ obj[\"Key\"]  for obj in response.get(\"Contents\", []) if obj[\"Key\"].endswith(\".parquet\")] \n",
    "\n",
    "dfs = []\n",
    "for key in arquivos_raw:\n",
    "    buffer = io.BytesIO()\n",
    "    s3.download_fileobj(bucket, key, buffer)\n",
    "    buffer.seek(0)\n",
    "    df = pq.read_table(buffer).to_pandas()\n",
    "    dfs.append(df)\n",
    "\n",
    "df_raw = pd.concat(dfs,ignore_index=True)"
   ]
  },
  {
   "cell_type": "code",
   "execution_count": 117,
   "id": "42e8de3a-1375-4a7e-8517-b8ae1c5b0346",
   "metadata": {
    "execution": {
     "iopub.execute_input": "2025-10-06T21:41:58.038865Z",
     "iopub.status.busy": "2025-10-06T21:41:58.038590Z",
     "iopub.status.idle": "2025-10-06T21:42:01.582276Z",
     "shell.execute_reply": "2025-10-06T21:42:01.571412Z",
     "shell.execute_reply.started": "2025-10-06T21:41:58.038843Z"
    }
   },
   "outputs": [],
   "source": [
    "# Busca e baixa o arquivo com os dados historicos da api da OpenWeather\n",
    "obj = s3.get_object(Bucket=bucket, Key=file_historico)\n",
    "df_hist = pd.read_csv(io.BytesIO(obj['Body'].read()))\n",
    "\n",
    "# print(df_hist)"
   ]
  },
  {
   "cell_type": "markdown",
   "id": "4f91ac2f-929c-4fbc-8a5d-0b7a6d76e859",
   "metadata": {},
   "source": [
    "# Dados Historicos"
   ]
  },
  {
   "cell_type": "markdown",
   "id": "08e0735e-e662-440e-b9dd-65829c74e6a3",
   "metadata": {},
   "source": [
    "## Análise dos Dados"
   ]
  },
  {
   "cell_type": "code",
   "execution_count": 118,
   "id": "cce1d46c-15df-4a41-a6d8-ceab45953fba",
   "metadata": {
    "execution": {
     "iopub.execute_input": "2025-10-06T21:43:07.152587Z",
     "iopub.status.busy": "2025-10-06T21:43:07.152320Z",
     "iopub.status.idle": "2025-10-06T21:43:07.170678Z",
     "shell.execute_reply": "2025-10-06T21:43:07.169749Z",
     "shell.execute_reply.started": "2025-10-06T21:43:07.152566Z"
    }
   },
   "outputs": [
    {
     "data": {
      "text/html": [
       "<div>\n",
       "<style scoped>\n",
       "    .dataframe tbody tr th:only-of-type {\n",
       "        vertical-align: middle;\n",
       "    }\n",
       "\n",
       "    .dataframe tbody tr th {\n",
       "        vertical-align: top;\n",
       "    }\n",
       "\n",
       "    .dataframe thead th {\n",
       "        text-align: right;\n",
       "    }\n",
       "</style>\n",
       "<table border=\"1\" class=\"dataframe\">\n",
       "  <thead>\n",
       "    <tr style=\"text-align: right;\">\n",
       "      <th></th>\n",
       "      <th>dt</th>\n",
       "      <th>dt_iso</th>\n",
       "      <th>timezone</th>\n",
       "      <th>city_name</th>\n",
       "      <th>lat</th>\n",
       "      <th>lon</th>\n",
       "      <th>temp</th>\n",
       "      <th>visibility</th>\n",
       "      <th>dew_point</th>\n",
       "      <th>feels_like</th>\n",
       "      <th>...</th>\n",
       "      <th>wind_gust</th>\n",
       "      <th>rain_1h</th>\n",
       "      <th>rain_3h</th>\n",
       "      <th>snow_1h</th>\n",
       "      <th>snow_3h</th>\n",
       "      <th>clouds_all</th>\n",
       "      <th>weather_id</th>\n",
       "      <th>weather_main</th>\n",
       "      <th>weather_description</th>\n",
       "      <th>weather_icon</th>\n",
       "    </tr>\n",
       "  </thead>\n",
       "  <tbody>\n",
       "    <tr>\n",
       "      <th>0</th>\n",
       "      <td>283996800</td>\n",
       "      <td>1979-01-01 00:00:00 +0000 UTC</td>\n",
       "      <td>-10800</td>\n",
       "      <td>Casa</td>\n",
       "      <td>-23.527811</td>\n",
       "      <td>-46.656732</td>\n",
       "      <td>23.55</td>\n",
       "      <td>NaN</td>\n",
       "      <td>20.1</td>\n",
       "      <td>24.08</td>\n",
       "      <td>...</td>\n",
       "      <td>NaN</td>\n",
       "      <td>NaN</td>\n",
       "      <td>NaN</td>\n",
       "      <td>NaN</td>\n",
       "      <td>NaN</td>\n",
       "      <td>100</td>\n",
       "      <td>804</td>\n",
       "      <td>Clouds</td>\n",
       "      <td>overcast clouds</td>\n",
       "      <td>04n</td>\n",
       "    </tr>\n",
       "    <tr>\n",
       "      <th>1</th>\n",
       "      <td>284000400</td>\n",
       "      <td>1979-01-01 01:00:00 +0000 UTC</td>\n",
       "      <td>-10800</td>\n",
       "      <td>Casa</td>\n",
       "      <td>-23.527811</td>\n",
       "      <td>-46.656732</td>\n",
       "      <td>23.65</td>\n",
       "      <td>NaN</td>\n",
       "      <td>20.2</td>\n",
       "      <td>24.19</td>\n",
       "      <td>...</td>\n",
       "      <td>NaN</td>\n",
       "      <td>NaN</td>\n",
       "      <td>NaN</td>\n",
       "      <td>NaN</td>\n",
       "      <td>NaN</td>\n",
       "      <td>100</td>\n",
       "      <td>804</td>\n",
       "      <td>Clouds</td>\n",
       "      <td>overcast clouds</td>\n",
       "      <td>04n</td>\n",
       "    </tr>\n",
       "  </tbody>\n",
       "</table>\n",
       "<p>2 rows × 28 columns</p>\n",
       "</div>"
      ],
      "text/plain": [
       "          dt                         dt_iso  timezone city_name        lat  \\\n",
       "0  283996800  1979-01-01 00:00:00 +0000 UTC    -10800      Casa -23.527811   \n",
       "1  284000400  1979-01-01 01:00:00 +0000 UTC    -10800      Casa -23.527811   \n",
       "\n",
       "         lon   temp  visibility  dew_point  feels_like  ...  wind_gust  \\\n",
       "0 -46.656732  23.55         NaN       20.1       24.08  ...        NaN   \n",
       "1 -46.656732  23.65         NaN       20.2       24.19  ...        NaN   \n",
       "\n",
       "   rain_1h  rain_3h  snow_1h  snow_3h  clouds_all  weather_id  weather_main  \\\n",
       "0      NaN      NaN      NaN      NaN         100         804        Clouds   \n",
       "1      NaN      NaN      NaN      NaN         100         804        Clouds   \n",
       "\n",
       "   weather_description  weather_icon  \n",
       "0      overcast clouds           04n  \n",
       "1      overcast clouds           04n  \n",
       "\n",
       "[2 rows x 28 columns]"
      ]
     },
     "execution_count": 118,
     "metadata": {},
     "output_type": "execute_result"
    }
   ],
   "source": [
    "df_hist.head(2)"
   ]
  },
  {
   "cell_type": "code",
   "execution_count": 119,
   "id": "850dc5ef-339c-456c-bc49-739b54c23cdc",
   "metadata": {
    "execution": {
     "iopub.execute_input": "2025-10-06T21:43:12.626034Z",
     "iopub.status.busy": "2025-10-06T21:43:12.625469Z",
     "iopub.status.idle": "2025-10-06T21:43:12.739515Z",
     "shell.execute_reply": "2025-10-06T21:43:12.738851Z",
     "shell.execute_reply.started": "2025-10-06T21:43:12.625995Z"
    }
   },
   "outputs": [
    {
     "name": "stdout",
     "output_type": "stream",
     "text": [
      "<class 'pandas.core.frame.DataFrame'>\n",
      "RangeIndex: 419726 entries, 0 to 419725\n",
      "Data columns (total 28 columns):\n",
      " #   Column               Non-Null Count   Dtype  \n",
      "---  ------               --------------   -----  \n",
      " 0   dt                   419726 non-null  int64  \n",
      " 1   dt_iso               419726 non-null  object \n",
      " 2   timezone             419726 non-null  int64  \n",
      " 3   city_name            419726 non-null  object \n",
      " 4   lat                  419726 non-null  float64\n",
      " 5   lon                  419726 non-null  float64\n",
      " 6   temp                 419726 non-null  float64\n",
      " 7   visibility           270086 non-null  float64\n",
      " 8   dew_point            419726 non-null  float64\n",
      " 9   feels_like           419726 non-null  float64\n",
      " 10  temp_min             419726 non-null  float64\n",
      " 11  temp_max             419726 non-null  float64\n",
      " 12  pressure             419726 non-null  int64  \n",
      " 13  sea_level            0 non-null       float64\n",
      " 14  grnd_level           0 non-null       float64\n",
      " 15  humidity             419726 non-null  int64  \n",
      " 16  wind_speed           419726 non-null  float64\n",
      " 17  wind_deg             419726 non-null  int64  \n",
      " 18  wind_gust            10660 non-null   float64\n",
      " 19  rain_1h              74875 non-null   float64\n",
      " 20  rain_3h              89 non-null      float64\n",
      " 21  snow_1h              0 non-null       float64\n",
      " 22  snow_3h              0 non-null       float64\n",
      " 23  clouds_all           419726 non-null  int64  \n",
      " 24  weather_id           419726 non-null  int64  \n",
      " 25  weather_main         419726 non-null  object \n",
      " 26  weather_description  419726 non-null  object \n",
      " 27  weather_icon         419726 non-null  object \n",
      "dtypes: float64(16), int64(7), object(5)\n",
      "memory usage: 89.7+ MB\n"
     ]
    }
   ],
   "source": [
    "df_hist.info()"
   ]
  },
  {
   "cell_type": "code",
   "execution_count": 120,
   "id": "939ef889-f249-49ad-b5ae-63385a8e9373",
   "metadata": {
    "execution": {
     "iopub.execute_input": "2025-10-06T21:43:16.396067Z",
     "iopub.status.busy": "2025-10-06T21:43:16.395780Z",
     "iopub.status.idle": "2025-10-06T21:43:16.401837Z",
     "shell.execute_reply": "2025-10-06T21:43:16.400860Z",
     "shell.execute_reply.started": "2025-10-06T21:43:16.396045Z"
    }
   },
   "outputs": [
    {
     "name": "stdout",
     "output_type": "stream",
     "text": [
      "### HIST ###\n",
      "Iguais: ['temp', 'temp_min', 'temp_max', 'pressure', 'humidity', 'wind_speed', 'wind_deg', 'clouds_all', 'weather_id', 'weather_main']\n",
      "Diferentes: ['dt', 'dt_iso', 'timezone', 'city_name', 'lat', 'lon', 'visibility', 'dew_point', 'feels_like', 'sea_level', 'grnd_level', 'wind_gust', 'rain_1h', 'rain_3h', 'snow_1h', 'snow_3h', 'weather_description', 'weather_icon']\n",
      "### RAW ###\n",
      "Iguais: ['weather_id', 'weather_main', 'temp', 'temp_min', 'temp_max', 'pressure', 'humidity', 'wind_speed', 'wind_deg', 'clouds_all']\n",
      "Diferentes: ['temp_feels_like', 'year', 'month', 'day', 'hour']\n"
     ]
    }
   ],
   "source": [
    "# Verifica as colunas presentes em cada um dos dataframes \n",
    "columns_raw = df_raw.columns\n",
    "columns_hist = df_hist.columns\n",
    "\n",
    "# Verifica quais colunas estão presentes em ambos\n",
    "igual_hist = [c for c in columns_hist if c in columns_raw]\n",
    "diferentes_hist = [c for c in columns_hist if c not in columns_raw]\n",
    "\n",
    "print(\"### HIST ###\")\n",
    "print(\"Iguais:\", igual_hist)\n",
    "print(\"Diferentes:\", diferentes_hist)\n",
    "\n",
    "igual_raw = [c for c in columns_raw if c in columns_hist]\n",
    "diferentes_raw = [c for c in columns_raw if c not in columns_hist ]\n",
    "\n",
    "print(\"### RAW ###\")\n",
    "print(\"Iguais:\", igual_raw)\n",
    "print(\"Diferentes:\", diferentes_raw)"
   ]
  },
  {
   "cell_type": "markdown",
   "id": "db61e2f1-cc4a-456a-ab9f-5be0f931d8f3",
   "metadata": {},
   "source": [
    "## Tratamento dos Dados"
   ]
  },
  {
   "cell_type": "markdown",
   "id": "6fc72579-23e7-4f94-a682-4fbed5239fd1",
   "metadata": {},
   "source": [
    "### Renomeia a coluna fells_fike para temp_fell_like"
   ]
  },
  {
   "cell_type": "code",
   "execution_count": 121,
   "id": "14d6b3d4-8c0d-4db0-a576-39f29a10470e",
   "metadata": {
    "execution": {
     "iopub.execute_input": "2025-10-06T21:43:22.154065Z",
     "iopub.status.busy": "2025-10-06T21:43:22.153753Z",
     "iopub.status.idle": "2025-10-06T21:43:22.190184Z",
     "shell.execute_reply": "2025-10-06T21:43:22.189341Z",
     "shell.execute_reply.started": "2025-10-06T21:43:22.154041Z"
    }
   },
   "outputs": [
    {
     "data": {
      "text/plain": [
       "Index(['dt', 'dt_iso', 'timezone', 'city_name', 'lat', 'lon', 'temp',\n",
       "       'visibility', 'dew_point', 'temp_feels_like', 'temp_min', 'temp_max',\n",
       "       'pressure', 'sea_level', 'grnd_level', 'humidity', 'wind_speed',\n",
       "       'wind_deg', 'wind_gust', 'rain_1h', 'rain_3h', 'snow_1h', 'snow_3h',\n",
       "       'clouds_all', 'weather_id', 'weather_main', 'weather_description',\n",
       "       'weather_icon'],\n",
       "      dtype='object')"
      ]
     },
     "execution_count": 121,
     "metadata": {},
     "output_type": "execute_result"
    }
   ],
   "source": [
    "df_hist = df_hist.rename(columns={\"feels_like\": \"temp_feels_like\"})\n",
    "df_hist.columns"
   ]
  },
  {
   "cell_type": "code",
   "execution_count": 122,
   "id": "712cac57-b23e-4195-b040-e743778d85f6",
   "metadata": {
    "execution": {
     "iopub.execute_input": "2025-10-06T21:43:25.766045Z",
     "iopub.status.busy": "2025-10-06T21:43:25.765765Z",
     "iopub.status.idle": "2025-10-06T21:43:25.771078Z",
     "shell.execute_reply": "2025-10-06T21:43:25.770353Z",
     "shell.execute_reply.started": "2025-10-06T21:43:25.766026Z"
    }
   },
   "outputs": [
    {
     "name": "stdout",
     "output_type": "stream",
     "text": [
      "### HIST ###\n",
      "Iguais: ['temp', 'temp_feels_like', 'temp_min', 'temp_max', 'pressure', 'humidity', 'wind_speed', 'wind_deg', 'clouds_all', 'weather_id', 'weather_main']\n",
      "Diferentes: ['dt', 'dt_iso', 'timezone', 'city_name', 'lat', 'lon', 'visibility', 'dew_point', 'sea_level', 'grnd_level', 'wind_gust', 'rain_1h', 'rain_3h', 'snow_1h', 'snow_3h', 'weather_description', 'weather_icon']\n",
      "### RAW ###\n",
      "Iguais: ['weather_id', 'weather_main', 'temp', 'temp_feels_like', 'temp_min', 'temp_max', 'pressure', 'humidity', 'wind_speed', 'wind_deg', 'clouds_all']\n",
      "Diferentes: ['year', 'month', 'day', 'hour']\n"
     ]
    }
   ],
   "source": [
    "# Verifica as colunas presentes em cada um dos dataframes \n",
    "columns_raw = df_raw.columns\n",
    "columns_hist = df_hist.columns\n",
    "\n",
    "# Verifica quais colunas estão presentes em ambos\n",
    "igual_hist = [c for c in columns_hist if c in columns_raw]\n",
    "diferentes_hist = [c for c in columns_hist if c not in columns_raw]\n",
    "\n",
    "print(\"### HIST ###\")\n",
    "print(\"Iguais:\", igual_hist)\n",
    "print(\"Diferentes:\", diferentes_hist)\n",
    "\n",
    "igual_raw = [c for c in columns_raw if c in columns_hist]\n",
    "diferentes_raw = [c for c in columns_raw if c not in columns_hist ]\n",
    "\n",
    "print(\"### RAW ###\")\n",
    "print(\"Iguais:\", igual_raw)\n",
    "print(\"Diferentes:\", diferentes_raw)"
   ]
  },
  {
   "cell_type": "markdown",
   "id": "9be99e06-a913-4b7d-b44a-1f7a5ab28aff",
   "metadata": {},
   "source": [
    "### Retira as colunas que não serão utilizadas"
   ]
  },
  {
   "cell_type": "code",
   "execution_count": 123,
   "id": "a1a75335-82ff-4e5a-b3a6-0e83ffe3d952",
   "metadata": {
    "execution": {
     "iopub.execute_input": "2025-10-06T21:43:33.214150Z",
     "iopub.status.busy": "2025-10-06T21:43:33.213888Z",
     "iopub.status.idle": "2025-10-06T21:43:33.240534Z",
     "shell.execute_reply": "2025-10-06T21:43:33.239811Z",
     "shell.execute_reply.started": "2025-10-06T21:43:33.214129Z"
    }
   },
   "outputs": [
    {
     "name": "stdout",
     "output_type": "stream",
     "text": [
      "Iguais: ['temp', 'temp_feels_like', 'temp_min', 'temp_max', 'pressure', 'humidity', 'wind_speed', 'wind_deg', 'clouds_all', 'weather_id', 'weather_main', 'dt_iso']\n",
      "Colunas atuais em df_hist: Index(['temp', 'temp_feels_like', 'temp_min', 'temp_max', 'pressure',\n",
      "       'humidity', 'wind_speed', 'wind_deg', 'clouds_all', 'weather_id',\n",
      "       'weather_main', 'dt_iso'],\n",
      "      dtype='object')\n"
     ]
    }
   ],
   "source": [
    "# Adiciona a coluna de data\n",
    "igual_hist.append(\"dt_iso\") \n",
    "print(\"Iguais:\", igual_hist)\n",
    "\n",
    "# Mantém apenas as colunas comuns aos dois + a coluna de data\n",
    "df_hist = df_hist[igual_hist]\n",
    "print(f\"Colunas atuais em df_hist: {df_hist.columns}\")\n"
   ]
  },
  {
   "cell_type": "code",
   "execution_count": 124,
   "id": "225c0179-43e8-44f7-a8aa-5318490843cb",
   "metadata": {
    "execution": {
     "iopub.execute_input": "2025-10-06T21:43:50.746930Z",
     "iopub.status.busy": "2025-10-06T21:43:50.746667Z",
     "iopub.status.idle": "2025-10-06T21:43:50.793076Z",
     "shell.execute_reply": "2025-10-06T21:43:50.792397Z",
     "shell.execute_reply.started": "2025-10-06T21:43:50.746911Z"
    }
   },
   "outputs": [
    {
     "name": "stdout",
     "output_type": "stream",
     "text": [
      "<class 'pandas.core.frame.DataFrame'>\n",
      "RangeIndex: 419726 entries, 0 to 419725\n",
      "Data columns (total 12 columns):\n",
      " #   Column           Non-Null Count   Dtype  \n",
      "---  ------           --------------   -----  \n",
      " 0   temp             419726 non-null  float64\n",
      " 1   temp_feels_like  419726 non-null  float64\n",
      " 2   temp_min         419726 non-null  float64\n",
      " 3   temp_max         419726 non-null  float64\n",
      " 4   pressure         419726 non-null  int64  \n",
      " 5   humidity         419726 non-null  int64  \n",
      " 6   wind_speed       419726 non-null  float64\n",
      " 7   wind_deg         419726 non-null  int64  \n",
      " 8   clouds_all       419726 non-null  int64  \n",
      " 9   weather_id       419726 non-null  int64  \n",
      " 10  weather_main     419726 non-null  object \n",
      " 11  dt_iso           419726 non-null  object \n",
      "dtypes: float64(5), int64(5), object(2)\n",
      "memory usage: 38.4+ MB\n"
     ]
    }
   ],
   "source": [
    "df_hist.info()"
   ]
  },
  {
   "cell_type": "markdown",
   "id": "0339ae52-cf07-43fe-8a11-e399a558fe7c",
   "metadata": {},
   "source": [
    "### Criação das colunas year, month, day e hour"
   ]
  },
  {
   "cell_type": "code",
   "execution_count": 125,
   "id": "d35943b1-fd91-4a16-9603-ff1bd6fc08fe",
   "metadata": {
    "execution": {
     "iopub.execute_input": "2025-10-06T21:43:56.754932Z",
     "iopub.status.busy": "2025-10-06T21:43:56.754577Z",
     "iopub.status.idle": "2025-10-06T21:43:58.649443Z",
     "shell.execute_reply": "2025-10-06T21:43:58.648669Z",
     "shell.execute_reply.started": "2025-10-06T21:43:56.754902Z"
    }
   },
   "outputs": [],
   "source": [
    "# Converte a coluna dt_iso para datetime\n",
    "df_hist[\"dt_iso\"] = pd.to_datetime(\n",
    "    df_hist[\"dt_iso\"], \n",
    "    format=\"%Y-%m-%d %H:%M:%S %z UTC\", \n",
    "    errors=\"coerce\"\n",
    ")"
   ]
  },
  {
   "cell_type": "code",
   "execution_count": 126,
   "id": "36f94260-1d29-4e7a-96b7-dabfe864d173",
   "metadata": {
    "execution": {
     "iopub.execute_input": "2025-10-06T21:44:01.383088Z",
     "iopub.status.busy": "2025-10-06T21:44:01.382785Z",
     "iopub.status.idle": "2025-10-06T21:44:01.441091Z",
     "shell.execute_reply": "2025-10-06T21:44:01.440282Z",
     "shell.execute_reply.started": "2025-10-06T21:44:01.383058Z"
    }
   },
   "outputs": [
    {
     "data": {
      "text/html": [
       "<div>\n",
       "<style scoped>\n",
       "    .dataframe tbody tr th:only-of-type {\n",
       "        vertical-align: middle;\n",
       "    }\n",
       "\n",
       "    .dataframe tbody tr th {\n",
       "        vertical-align: top;\n",
       "    }\n",
       "\n",
       "    .dataframe thead th {\n",
       "        text-align: right;\n",
       "    }\n",
       "</style>\n",
       "<table border=\"1\" class=\"dataframe\">\n",
       "  <thead>\n",
       "    <tr style=\"text-align: right;\">\n",
       "      <th></th>\n",
       "      <th>temp</th>\n",
       "      <th>temp_feels_like</th>\n",
       "      <th>temp_min</th>\n",
       "      <th>temp_max</th>\n",
       "      <th>pressure</th>\n",
       "      <th>humidity</th>\n",
       "      <th>wind_speed</th>\n",
       "      <th>wind_deg</th>\n",
       "      <th>clouds_all</th>\n",
       "      <th>weather_id</th>\n",
       "      <th>weather_main</th>\n",
       "      <th>dt_iso</th>\n",
       "      <th>year</th>\n",
       "      <th>month</th>\n",
       "      <th>day</th>\n",
       "      <th>hour</th>\n",
       "    </tr>\n",
       "  </thead>\n",
       "  <tbody>\n",
       "    <tr>\n",
       "      <th>0</th>\n",
       "      <td>23.55</td>\n",
       "      <td>24.08</td>\n",
       "      <td>23.02</td>\n",
       "      <td>24.66</td>\n",
       "      <td>1011</td>\n",
       "      <td>81</td>\n",
       "      <td>1.28</td>\n",
       "      <td>9</td>\n",
       "      <td>100</td>\n",
       "      <td>804</td>\n",
       "      <td>Clouds</td>\n",
       "      <td>1979-01-01 00:00:00+00:00</td>\n",
       "      <td>1979</td>\n",
       "      <td>1</td>\n",
       "      <td>1</td>\n",
       "      <td>0</td>\n",
       "    </tr>\n",
       "  </tbody>\n",
       "</table>\n",
       "</div>"
      ],
      "text/plain": [
       "    temp  temp_feels_like  temp_min  temp_max  pressure  humidity  wind_speed  \\\n",
       "0  23.55            24.08     23.02     24.66      1011        81        1.28   \n",
       "\n",
       "   wind_deg  clouds_all  weather_id weather_main                    dt_iso  \\\n",
       "0         9         100         804       Clouds 1979-01-01 00:00:00+00:00   \n",
       "\n",
       "   year  month  day  hour  \n",
       "0  1979      1    1     0  "
      ]
     },
     "execution_count": 126,
     "metadata": {},
     "output_type": "execute_result"
    }
   ],
   "source": [
    "df_hist[\"year\"] = df_hist[\"dt_iso\"].dt.year\n",
    "df_hist[\"month\"] = df_hist[\"dt_iso\"].dt.month\n",
    "df_hist[\"day\"] = df_hist[\"dt_iso\"].dt.day\n",
    "df_hist[\"hour\"] = df_hist[\"dt_iso\"].dt.hour\n",
    "\n",
    "df_hist.head(1)"
   ]
  },
  {
   "cell_type": "code",
   "execution_count": 127,
   "id": "607fe06e-9df8-48b5-8944-d9b9d684b6bd",
   "metadata": {
    "execution": {
     "iopub.execute_input": "2025-10-06T21:44:14.526736Z",
     "iopub.status.busy": "2025-10-06T21:44:14.526478Z",
     "iopub.status.idle": "2025-10-06T21:44:14.546370Z",
     "shell.execute_reply": "2025-10-06T21:44:14.545702Z",
     "shell.execute_reply.started": "2025-10-06T21:44:14.526718Z"
    }
   },
   "outputs": [],
   "source": [
    "# df_hist.drop(columns=[\"dt_iso\"], inplace=True)\n",
    "df_hist.drop(columns=[\"dt_iso\"], inplace=True)"
   ]
  },
  {
   "cell_type": "code",
   "execution_count": 128,
   "id": "446f7ebd-e3e0-4673-b7fc-bb0605da898a",
   "metadata": {
    "execution": {
     "iopub.execute_input": "2025-10-06T21:44:22.099284Z",
     "iopub.status.busy": "2025-10-06T21:44:22.099012Z",
     "iopub.status.idle": "2025-10-06T21:44:22.138866Z",
     "shell.execute_reply": "2025-10-06T21:44:22.137990Z",
     "shell.execute_reply.started": "2025-10-06T21:44:22.099262Z"
    }
   },
   "outputs": [
    {
     "name": "stdout",
     "output_type": "stream",
     "text": [
      "<class 'pandas.core.frame.DataFrame'>\n",
      "RangeIndex: 419726 entries, 0 to 419725\n",
      "Data columns (total 15 columns):\n",
      " #   Column           Non-Null Count   Dtype  \n",
      "---  ------           --------------   -----  \n",
      " 0   temp             419726 non-null  float64\n",
      " 1   temp_feels_like  419726 non-null  float64\n",
      " 2   temp_min         419726 non-null  float64\n",
      " 3   temp_max         419726 non-null  float64\n",
      " 4   pressure         419726 non-null  int64  \n",
      " 5   humidity         419726 non-null  int64  \n",
      " 6   wind_speed       419726 non-null  float64\n",
      " 7   wind_deg         419726 non-null  int64  \n",
      " 8   clouds_all       419726 non-null  int64  \n",
      " 9   weather_id       419726 non-null  int64  \n",
      " 10  weather_main     419726 non-null  object \n",
      " 11  year             419726 non-null  int32  \n",
      " 12  month            419726 non-null  int32  \n",
      " 13  day              419726 non-null  int32  \n",
      " 14  hour             419726 non-null  int32  \n",
      "dtypes: float64(5), int32(4), int64(5), object(1)\n",
      "memory usage: 41.6+ MB\n"
     ]
    },
    {
     "data": {
      "text/html": [
       "<div>\n",
       "<style scoped>\n",
       "    .dataframe tbody tr th:only-of-type {\n",
       "        vertical-align: middle;\n",
       "    }\n",
       "\n",
       "    .dataframe tbody tr th {\n",
       "        vertical-align: top;\n",
       "    }\n",
       "\n",
       "    .dataframe thead th {\n",
       "        text-align: right;\n",
       "    }\n",
       "</style>\n",
       "<table border=\"1\" class=\"dataframe\">\n",
       "  <thead>\n",
       "    <tr style=\"text-align: right;\">\n",
       "      <th></th>\n",
       "      <th>temp</th>\n",
       "      <th>temp_feels_like</th>\n",
       "      <th>temp_min</th>\n",
       "      <th>temp_max</th>\n",
       "      <th>pressure</th>\n",
       "      <th>humidity</th>\n",
       "      <th>wind_speed</th>\n",
       "      <th>wind_deg</th>\n",
       "      <th>clouds_all</th>\n",
       "      <th>weather_id</th>\n",
       "      <th>weather_main</th>\n",
       "      <th>year</th>\n",
       "      <th>month</th>\n",
       "      <th>day</th>\n",
       "      <th>hour</th>\n",
       "    </tr>\n",
       "  </thead>\n",
       "  <tbody>\n",
       "    <tr>\n",
       "      <th>0</th>\n",
       "      <td>23.55</td>\n",
       "      <td>24.08</td>\n",
       "      <td>23.02</td>\n",
       "      <td>24.66</td>\n",
       "      <td>1011</td>\n",
       "      <td>81</td>\n",
       "      <td>1.28</td>\n",
       "      <td>9</td>\n",
       "      <td>100</td>\n",
       "      <td>804</td>\n",
       "      <td>Clouds</td>\n",
       "      <td>1979</td>\n",
       "      <td>1</td>\n",
       "      <td>1</td>\n",
       "      <td>0</td>\n",
       "    </tr>\n",
       "  </tbody>\n",
       "</table>\n",
       "</div>"
      ],
      "text/plain": [
       "    temp  temp_feels_like  temp_min  temp_max  pressure  humidity  wind_speed  \\\n",
       "0  23.55            24.08     23.02     24.66      1011        81        1.28   \n",
       "\n",
       "   wind_deg  clouds_all  weather_id weather_main  year  month  day  hour  \n",
       "0         9         100         804       Clouds  1979      1    1     0  "
      ]
     },
     "execution_count": 128,
     "metadata": {},
     "output_type": "execute_result"
    }
   ],
   "source": [
    "df_hist.info()\n",
    "df_hist.head(1)"
   ]
  },
  {
   "cell_type": "markdown",
   "id": "8b603e95-1b49-4277-8d49-b2b1490f8175",
   "metadata": {},
   "source": [
    "# Dados Atuais"
   ]
  },
  {
   "cell_type": "markdown",
   "id": "d6e6d9c5-19bc-465f-9dea-8312f7628692",
   "metadata": {
    "execution": {
     "iopub.execute_input": "2025-10-06T21:24:29.158181Z",
     "iopub.status.busy": "2025-10-06T21:24:29.157880Z",
     "iopub.status.idle": "2025-10-06T21:24:29.161404Z",
     "shell.execute_reply": "2025-10-06T21:24:29.160510Z",
     "shell.execute_reply.started": "2025-10-06T21:24:29.158159Z"
    }
   },
   "source": [
    "## Análise dos dados"
   ]
  },
  {
   "cell_type": "code",
   "execution_count": 129,
   "id": "529d415d-8860-4a19-9d4a-7910e6890dd2",
   "metadata": {
    "execution": {
     "iopub.execute_input": "2025-10-06T21:44:29.052709Z",
     "iopub.status.busy": "2025-10-06T21:44:29.052413Z",
     "iopub.status.idle": "2025-10-06T21:44:29.068520Z",
     "shell.execute_reply": "2025-10-06T21:44:29.068017Z",
     "shell.execute_reply.started": "2025-10-06T21:44:29.052688Z"
    }
   },
   "outputs": [
    {
     "name": "stdout",
     "output_type": "stream",
     "text": [
      "<class 'pandas.core.frame.DataFrame'>\n",
      "RangeIndex: 219 entries, 0 to 218\n",
      "Data columns (total 15 columns):\n",
      " #   Column           Non-Null Count  Dtype  \n",
      "---  ------           --------------  -----  \n",
      " 0   weather_id       219 non-null    int64  \n",
      " 1   weather_main     219 non-null    object \n",
      " 2   temp             219 non-null    float64\n",
      " 3   temp_feels_like  219 non-null    float64\n",
      " 4   temp_min         219 non-null    float64\n",
      " 5   temp_max         219 non-null    float64\n",
      " 6   pressure         219 non-null    int64  \n",
      " 7   humidity         219 non-null    int64  \n",
      " 8   wind_speed       219 non-null    float64\n",
      " 9   wind_deg         219 non-null    int64  \n",
      " 10  clouds_all       219 non-null    int64  \n",
      " 11  year             219 non-null    int64  \n",
      " 12  month            219 non-null    int64  \n",
      " 13  day              219 non-null    int64  \n",
      " 14  hour             219 non-null    int64  \n",
      "dtypes: float64(5), int64(9), object(1)\n",
      "memory usage: 25.8+ KB\n"
     ]
    },
    {
     "data": {
      "text/html": [
       "<div>\n",
       "<style scoped>\n",
       "    .dataframe tbody tr th:only-of-type {\n",
       "        vertical-align: middle;\n",
       "    }\n",
       "\n",
       "    .dataframe tbody tr th {\n",
       "        vertical-align: top;\n",
       "    }\n",
       "\n",
       "    .dataframe thead th {\n",
       "        text-align: right;\n",
       "    }\n",
       "</style>\n",
       "<table border=\"1\" class=\"dataframe\">\n",
       "  <thead>\n",
       "    <tr style=\"text-align: right;\">\n",
       "      <th></th>\n",
       "      <th>weather_id</th>\n",
       "      <th>weather_main</th>\n",
       "      <th>temp</th>\n",
       "      <th>temp_feels_like</th>\n",
       "      <th>temp_min</th>\n",
       "      <th>temp_max</th>\n",
       "      <th>pressure</th>\n",
       "      <th>humidity</th>\n",
       "      <th>wind_speed</th>\n",
       "      <th>wind_deg</th>\n",
       "      <th>clouds_all</th>\n",
       "      <th>year</th>\n",
       "      <th>month</th>\n",
       "      <th>day</th>\n",
       "      <th>hour</th>\n",
       "    </tr>\n",
       "  </thead>\n",
       "  <tbody>\n",
       "    <tr>\n",
       "      <th>0</th>\n",
       "      <td>800</td>\n",
       "      <td>Clear</td>\n",
       "      <td>24.81</td>\n",
       "      <td>24.39</td>\n",
       "      <td>24.64</td>\n",
       "      <td>25.96</td>\n",
       "      <td>1019</td>\n",
       "      <td>40</td>\n",
       "      <td>1.54</td>\n",
       "      <td>120</td>\n",
       "      <td>0</td>\n",
       "      <td>2025</td>\n",
       "      <td>10</td>\n",
       "      <td>1</td>\n",
       "      <td>0</td>\n",
       "    </tr>\n",
       "    <tr>\n",
       "      <th>1</th>\n",
       "      <td>800</td>\n",
       "      <td>Clear</td>\n",
       "      <td>24.18</td>\n",
       "      <td>23.70</td>\n",
       "      <td>23.90</td>\n",
       "      <td>24.64</td>\n",
       "      <td>1019</td>\n",
       "      <td>40</td>\n",
       "      <td>3.09</td>\n",
       "      <td>90</td>\n",
       "      <td>0</td>\n",
       "      <td>2025</td>\n",
       "      <td>10</td>\n",
       "      <td>1</td>\n",
       "      <td>1</td>\n",
       "    </tr>\n",
       "  </tbody>\n",
       "</table>\n",
       "</div>"
      ],
      "text/plain": [
       "   weather_id weather_main   temp  temp_feels_like  temp_min  temp_max  \\\n",
       "0         800        Clear  24.81            24.39     24.64     25.96   \n",
       "1         800        Clear  24.18            23.70     23.90     24.64   \n",
       "\n",
       "   pressure  humidity  wind_speed  wind_deg  clouds_all  year  month  day  \\\n",
       "0      1019        40        1.54       120           0  2025     10    1   \n",
       "1      1019        40        3.09        90           0  2025     10    1   \n",
       "\n",
       "   hour  \n",
       "0     0  \n",
       "1     1  "
      ]
     },
     "execution_count": 129,
     "metadata": {},
     "output_type": "execute_result"
    }
   ],
   "source": [
    "df_raw.info()\n",
    "df_raw.head(2)"
   ]
  },
  {
   "cell_type": "markdown",
   "id": "2b5b0c4e-4bcc-4c4c-9c17-952e00c98169",
   "metadata": {},
   "source": [
    "## Tratamento dos dados"
   ]
  },
  {
   "cell_type": "markdown",
   "id": "671837da-496e-4b48-83f5-4e47bd625b31",
   "metadata": {},
   "source": [
    "### Retira a coluna day_duration"
   ]
  },
  {
   "cell_type": "code",
   "execution_count": 132,
   "id": "d1987c6a-0477-4401-bc05-29ee3c3c60c3",
   "metadata": {
    "execution": {
     "iopub.execute_input": "2025-10-06T21:45:08.689490Z",
     "iopub.status.busy": "2025-10-06T21:45:08.689206Z",
     "iopub.status.idle": "2025-10-06T21:45:08.698907Z",
     "shell.execute_reply": "2025-10-06T21:45:08.698190Z",
     "shell.execute_reply.started": "2025-10-06T21:45:08.689469Z"
    }
   },
   "outputs": [
    {
     "name": "stdout",
     "output_type": "stream",
     "text": [
      "<class 'pandas.core.frame.DataFrame'>\n",
      "RangeIndex: 220 entries, 0 to 219\n",
      "Data columns (total 15 columns):\n",
      " #   Column           Non-Null Count  Dtype  \n",
      "---  ------           --------------  -----  \n",
      " 0   weather_id       220 non-null    int64  \n",
      " 1   weather_main     220 non-null    object \n",
      " 2   temp             220 non-null    float64\n",
      " 3   temp_feels_like  220 non-null    float64\n",
      " 4   temp_min         220 non-null    float64\n",
      " 5   temp_max         220 non-null    float64\n",
      " 6   pressure         220 non-null    int64  \n",
      " 7   humidity         220 non-null    int64  \n",
      " 8   wind_speed       220 non-null    float64\n",
      " 9   wind_deg         220 non-null    int64  \n",
      " 10  clouds_all       220 non-null    int64  \n",
      " 11  year             220 non-null    int64  \n",
      " 12  month            220 non-null    int64  \n",
      " 13  day              220 non-null    int64  \n",
      " 14  hour             220 non-null    int64  \n",
      "dtypes: float64(5), int64(9), object(1)\n",
      "memory usage: 25.9+ KB\n"
     ]
    }
   ],
   "source": [
    "df_raw.drop(columns=[\"day_duration\"], inplace=True)\n",
    "df_raw.info()"
   ]
  },
  {
   "cell_type": "code",
   "execution_count": 133,
   "id": "21993af1-b607-4e5d-a797-d1c64f288936",
   "metadata": {
    "execution": {
     "iopub.execute_input": "2025-10-06T21:45:18.317980Z",
     "iopub.status.busy": "2025-10-06T21:45:18.317701Z",
     "iopub.status.idle": "2025-10-06T21:45:18.322817Z",
     "shell.execute_reply": "2025-10-06T21:45:18.322109Z",
     "shell.execute_reply.started": "2025-10-06T21:45:18.317961Z"
    }
   },
   "outputs": [
    {
     "name": "stdout",
     "output_type": "stream",
     "text": [
      "Iguais: ['temp', 'temp_feels_like', 'temp_min', 'temp_max', 'pressure', 'humidity', 'wind_speed', 'wind_deg', 'clouds_all', 'weather_id', 'weather_main', 'year', 'month', 'day', 'hour']\n",
      "Diferentes: []\n",
      "Iguais: ['weather_id', 'weather_main', 'temp', 'temp_feels_like', 'temp_min', 'temp_max', 'pressure', 'humidity', 'wind_speed', 'wind_deg', 'clouds_all', 'year', 'month', 'day', 'hour']\n",
      "Diferentes: []\n"
     ]
    }
   ],
   "source": [
    "# Verifica as colunas presentes em cada um dos dataframes \n",
    "columns_raw = df_raw.columns\n",
    "columns_hist = df_hist.columns\n",
    "\n",
    "# Verifica quais colunas estão presentes em ambos\n",
    "igual = [c for c in columns_hist if c in columns_raw]\n",
    "diferentes = [c for c in columns_hist if c not in columns_raw]\n",
    "\n",
    "print(\"Iguais:\", igual)\n",
    "print(\"Diferentes:\", diferentes)\n",
    "\n",
    "igual = [c for c in columns_raw if c in columns_hist]\n",
    "diferentes = [c for c in columns_raw if c not in columns_hist ]\n",
    "\n",
    "print(\"Iguais:\", igual)\n",
    "print(\"Diferentes:\", diferentes)\n"
   ]
  },
  {
   "cell_type": "code",
   "execution_count": 32,
   "id": "bda38583-be29-45a9-a567-14a490d01ffd",
   "metadata": {
    "execution": {
     "iopub.execute_input": "2025-10-06T18:51:06.539659Z",
     "iopub.status.busy": "2025-10-06T18:51:06.539368Z",
     "iopub.status.idle": "2025-10-06T18:51:06.543390Z",
     "shell.execute_reply": "2025-10-06T18:51:06.542777Z",
     "shell.execute_reply.started": "2025-10-06T18:51:06.539637Z"
    }
   },
   "outputs": [
    {
     "name": "stdout",
     "output_type": "stream",
     "text": [
      "Index(['dt', 'dt_iso', 'timezone', 'city_name', 'lat', 'lon', 'temp',\n",
      "       'visibility', 'dew_point', 'feels_like', 'temp_min', 'temp_max',\n",
      "       'pressure', 'sea_level', 'grnd_level', 'humidity', 'wind_speed',\n",
      "       'wind_deg', 'wind_gust', 'rain_1h', 'rain_3h', 'snow_1h', 'snow_3h',\n",
      "       'clouds_all', 'weather_id', 'weather_main', 'weather_description',\n",
      "       'weather_icon'],\n",
      "      dtype='object') Index(['weather_id', 'weather_main', 'temp', 'temp_feels_like', 'temp_min',\n",
      "       'temp_max', 'pressure', 'humidity', 'wind_speed', 'wind_deg',\n",
      "       'clouds_all', 'year', 'month', 'day', 'hour', 'day_duration'],\n",
      "      dtype='object')\n"
     ]
    }
   ],
   "source": [
    "print(columns_hist, columns_raw)"
   ]
  },
  {
   "cell_type": "markdown",
   "id": "3759eb3e-e66b-4851-9efb-f18f9520f4b5",
   "metadata": {
    "execution": {
     "iopub.execute_input": "2025-10-06T21:46:47.819908Z",
     "iopub.status.busy": "2025-10-06T21:46:47.819629Z",
     "iopub.status.idle": "2025-10-06T21:46:47.822658Z",
     "shell.execute_reply": "2025-10-06T21:46:47.822018Z",
     "shell.execute_reply.started": "2025-10-06T21:46:47.819888Z"
    }
   },
   "source": [
    "### Concatenação dos dataframes"
   ]
  },
  {
   "cell_type": "markdown",
   "id": "7d931d3c-ee38-474c-aa25-e716104c1a95",
   "metadata": {
    "execution": {
     "iopub.execute_input": "2025-10-06T21:46:47.819908Z",
     "iopub.status.busy": "2025-10-06T21:46:47.819629Z",
     "iopub.status.idle": "2025-10-06T21:46:47.822658Z",
     "shell.execute_reply": "2025-10-06T21:46:47.822018Z",
     "shell.execute_reply.started": "2025-10-06T21:46:47.819888Z"
    }
   },
   "source": [
    "### Concatenação dos dataframes"
   ]
  },
  {
   "cell_type": "code",
   "execution_count": 135,
   "id": "c9ed3a12-1e99-4abe-934b-a9ddd51018f1",
   "metadata": {
    "execution": {
     "iopub.execute_input": "2025-10-06T21:47:46.046614Z",
     "iopub.status.busy": "2025-10-06T21:47:46.046326Z",
     "iopub.status.idle": "2025-10-06T21:47:46.074721Z",
     "shell.execute_reply": "2025-10-06T21:47:46.073906Z",
     "shell.execute_reply.started": "2025-10-06T21:47:46.046594Z"
    }
   },
   "outputs": [
    {
     "name": "stdout",
     "output_type": "stream",
     "text": [
      "(419946, 15)\n",
      "Index(['temp', 'temp_feels_like', 'temp_min', 'temp_max', 'pressure',\n",
      "       'humidity', 'wind_speed', 'wind_deg', 'clouds_all', 'weather_id',\n",
      "       'weather_main', 'year', 'month', 'day', 'hour'],\n",
      "      dtype='object')\n"
     ]
    },
    {
     "data": {
      "text/html": [
       "<div>\n",
       "<style scoped>\n",
       "    .dataframe tbody tr th:only-of-type {\n",
       "        vertical-align: middle;\n",
       "    }\n",
       "\n",
       "    .dataframe tbody tr th {\n",
       "        vertical-align: top;\n",
       "    }\n",
       "\n",
       "    .dataframe thead th {\n",
       "        text-align: right;\n",
       "    }\n",
       "</style>\n",
       "<table border=\"1\" class=\"dataframe\">\n",
       "  <thead>\n",
       "    <tr style=\"text-align: right;\">\n",
       "      <th></th>\n",
       "      <th>temp</th>\n",
       "      <th>temp_feels_like</th>\n",
       "      <th>temp_min</th>\n",
       "      <th>temp_max</th>\n",
       "      <th>pressure</th>\n",
       "      <th>humidity</th>\n",
       "      <th>wind_speed</th>\n",
       "      <th>wind_deg</th>\n",
       "      <th>clouds_all</th>\n",
       "      <th>weather_id</th>\n",
       "      <th>weather_main</th>\n",
       "      <th>year</th>\n",
       "      <th>month</th>\n",
       "      <th>day</th>\n",
       "      <th>hour</th>\n",
       "    </tr>\n",
       "  </thead>\n",
       "  <tbody>\n",
       "    <tr>\n",
       "      <th>0</th>\n",
       "      <td>23.55</td>\n",
       "      <td>24.08</td>\n",
       "      <td>23.02</td>\n",
       "      <td>24.66</td>\n",
       "      <td>1011</td>\n",
       "      <td>81</td>\n",
       "      <td>1.28</td>\n",
       "      <td>9</td>\n",
       "      <td>100</td>\n",
       "      <td>804</td>\n",
       "      <td>Clouds</td>\n",
       "      <td>1979</td>\n",
       "      <td>1</td>\n",
       "      <td>1</td>\n",
       "      <td>0</td>\n",
       "    </tr>\n",
       "    <tr>\n",
       "      <th>1</th>\n",
       "      <td>23.65</td>\n",
       "      <td>24.19</td>\n",
       "      <td>22.98</td>\n",
       "      <td>24.67</td>\n",
       "      <td>1011</td>\n",
       "      <td>81</td>\n",
       "      <td>1.32</td>\n",
       "      <td>9</td>\n",
       "      <td>100</td>\n",
       "      <td>804</td>\n",
       "      <td>Clouds</td>\n",
       "      <td>1979</td>\n",
       "      <td>1</td>\n",
       "      <td>1</td>\n",
       "      <td>1</td>\n",
       "    </tr>\n",
       "    <tr>\n",
       "      <th>2</th>\n",
       "      <td>23.53</td>\n",
       "      <td>24.13</td>\n",
       "      <td>22.68</td>\n",
       "      <td>24.54</td>\n",
       "      <td>1012</td>\n",
       "      <td>84</td>\n",
       "      <td>1.35</td>\n",
       "      <td>2</td>\n",
       "      <td>100</td>\n",
       "      <td>804</td>\n",
       "      <td>Clouds</td>\n",
       "      <td>1979</td>\n",
       "      <td>1</td>\n",
       "      <td>1</td>\n",
       "      <td>2</td>\n",
       "    </tr>\n",
       "    <tr>\n",
       "      <th>3</th>\n",
       "      <td>20.61</td>\n",
       "      <td>21.08</td>\n",
       "      <td>20.00</td>\n",
       "      <td>21.74</td>\n",
       "      <td>1012</td>\n",
       "      <td>90</td>\n",
       "      <td>1.10</td>\n",
       "      <td>308</td>\n",
       "      <td>100</td>\n",
       "      <td>804</td>\n",
       "      <td>Clouds</td>\n",
       "      <td>1979</td>\n",
       "      <td>1</td>\n",
       "      <td>1</td>\n",
       "      <td>3</td>\n",
       "    </tr>\n",
       "    <tr>\n",
       "      <th>4</th>\n",
       "      <td>20.47</td>\n",
       "      <td>20.97</td>\n",
       "      <td>19.57</td>\n",
       "      <td>21.51</td>\n",
       "      <td>1012</td>\n",
       "      <td>92</td>\n",
       "      <td>1.60</td>\n",
       "      <td>215</td>\n",
       "      <td>100</td>\n",
       "      <td>500</td>\n",
       "      <td>Rain</td>\n",
       "      <td>1979</td>\n",
       "      <td>1</td>\n",
       "      <td>1</td>\n",
       "      <td>4</td>\n",
       "    </tr>\n",
       "  </tbody>\n",
       "</table>\n",
       "</div>"
      ],
      "text/plain": [
       "    temp  temp_feels_like  temp_min  temp_max  pressure  humidity  wind_speed  \\\n",
       "0  23.55            24.08     23.02     24.66      1011        81        1.28   \n",
       "1  23.65            24.19     22.98     24.67      1011        81        1.32   \n",
       "2  23.53            24.13     22.68     24.54      1012        84        1.35   \n",
       "3  20.61            21.08     20.00     21.74      1012        90        1.10   \n",
       "4  20.47            20.97     19.57     21.51      1012        92        1.60   \n",
       "\n",
       "   wind_deg  clouds_all  weather_id weather_main  year  month  day  hour  \n",
       "0         9         100         804       Clouds  1979      1    1     0  \n",
       "1         9         100         804       Clouds  1979      1    1     1  \n",
       "2         2         100         804       Clouds  1979      1    1     2  \n",
       "3       308         100         804       Clouds  1979      1    1     3  \n",
       "4       215         100         500         Rain  1979      1    1     4  "
      ]
     },
     "execution_count": 135,
     "metadata": {},
     "output_type": "execute_result"
    }
   ],
   "source": [
    "df_all = pd.concat([df_hist, df_raw], ignore_index=True)\n",
    "print(df_all.shape)      \n",
    "print(df_all.columns)        \n",
    "df_all.head()              \n",
    "\n"
   ]
  },
  {
   "cell_type": "code",
   "execution_count": 136,
   "id": "18411565-58b7-4015-8628-bdfd39a1b511",
   "metadata": {
    "execution": {
     "iopub.execute_input": "2025-10-06T21:48:42.738708Z",
     "iopub.status.busy": "2025-10-06T21:48:42.738433Z",
     "iopub.status.idle": "2025-10-06T21:48:42.741374Z",
     "shell.execute_reply": "2025-10-06T21:48:42.740869Z",
     "shell.execute_reply.started": "2025-10-06T21:48:42.738686Z"
    }
   },
   "outputs": [],
   "source": [
    "# Ordena os valores"
   ]
  },
  {
   "cell_type": "code",
   "execution_count": 137,
   "id": "1ebd821e-f7c7-449c-b411-943fcc955af6",
   "metadata": {
    "execution": {
     "iopub.execute_input": "2025-10-06T21:51:23.636421Z",
     "iopub.status.busy": "2025-10-06T21:51:23.636151Z",
     "iopub.status.idle": "2025-10-06T21:51:23.801147Z",
     "shell.execute_reply": "2025-10-06T21:51:23.800477Z",
     "shell.execute_reply.started": "2025-10-06T21:51:23.636400Z"
    }
   },
   "outputs": [],
   "source": [
    "df_all = df_all.sort_values(by=[\"year\", \"month\", \"day\", \"hour\"]).reset_index(drop=True)\n",
    "\n"
   ]
  },
  {
   "cell_type": "code",
   "execution_count": 138,
   "id": "1441e965-059f-40e9-8c02-e243d281573c",
   "metadata": {
    "execution": {
     "iopub.execute_input": "2025-10-06T21:51:37.735362Z",
     "iopub.status.busy": "2025-10-06T21:51:37.735076Z",
     "iopub.status.idle": "2025-10-06T21:51:37.748412Z",
     "shell.execute_reply": "2025-10-06T21:51:37.747690Z",
     "shell.execute_reply.started": "2025-10-06T21:51:37.735340Z"
    }
   },
   "outputs": [
    {
     "data": {
      "text/html": [
       "<div>\n",
       "<style scoped>\n",
       "    .dataframe tbody tr th:only-of-type {\n",
       "        vertical-align: middle;\n",
       "    }\n",
       "\n",
       "    .dataframe tbody tr th {\n",
       "        vertical-align: top;\n",
       "    }\n",
       "\n",
       "    .dataframe thead th {\n",
       "        text-align: right;\n",
       "    }\n",
       "</style>\n",
       "<table border=\"1\" class=\"dataframe\">\n",
       "  <thead>\n",
       "    <tr style=\"text-align: right;\">\n",
       "      <th></th>\n",
       "      <th>temp</th>\n",
       "      <th>temp_feels_like</th>\n",
       "      <th>temp_min</th>\n",
       "      <th>temp_max</th>\n",
       "      <th>pressure</th>\n",
       "      <th>humidity</th>\n",
       "      <th>wind_speed</th>\n",
       "      <th>wind_deg</th>\n",
       "      <th>clouds_all</th>\n",
       "      <th>weather_id</th>\n",
       "      <th>weather_main</th>\n",
       "      <th>year</th>\n",
       "      <th>month</th>\n",
       "      <th>day</th>\n",
       "      <th>hour</th>\n",
       "    </tr>\n",
       "  </thead>\n",
       "  <tbody>\n",
       "    <tr>\n",
       "      <th>0</th>\n",
       "      <td>23.55</td>\n",
       "      <td>24.08</td>\n",
       "      <td>23.02</td>\n",
       "      <td>24.66</td>\n",
       "      <td>1011</td>\n",
       "      <td>81</td>\n",
       "      <td>1.28</td>\n",
       "      <td>9</td>\n",
       "      <td>100</td>\n",
       "      <td>804</td>\n",
       "      <td>Clouds</td>\n",
       "      <td>1979</td>\n",
       "      <td>1</td>\n",
       "      <td>1</td>\n",
       "      <td>0</td>\n",
       "    </tr>\n",
       "    <tr>\n",
       "      <th>1</th>\n",
       "      <td>23.65</td>\n",
       "      <td>24.19</td>\n",
       "      <td>22.98</td>\n",
       "      <td>24.67</td>\n",
       "      <td>1011</td>\n",
       "      <td>81</td>\n",
       "      <td>1.32</td>\n",
       "      <td>9</td>\n",
       "      <td>100</td>\n",
       "      <td>804</td>\n",
       "      <td>Clouds</td>\n",
       "      <td>1979</td>\n",
       "      <td>1</td>\n",
       "      <td>1</td>\n",
       "      <td>1</td>\n",
       "    </tr>\n",
       "    <tr>\n",
       "      <th>2</th>\n",
       "      <td>23.53</td>\n",
       "      <td>24.13</td>\n",
       "      <td>22.68</td>\n",
       "      <td>24.54</td>\n",
       "      <td>1012</td>\n",
       "      <td>84</td>\n",
       "      <td>1.35</td>\n",
       "      <td>2</td>\n",
       "      <td>100</td>\n",
       "      <td>804</td>\n",
       "      <td>Clouds</td>\n",
       "      <td>1979</td>\n",
       "      <td>1</td>\n",
       "      <td>1</td>\n",
       "      <td>2</td>\n",
       "    </tr>\n",
       "    <tr>\n",
       "      <th>3</th>\n",
       "      <td>20.61</td>\n",
       "      <td>21.08</td>\n",
       "      <td>20.00</td>\n",
       "      <td>21.74</td>\n",
       "      <td>1012</td>\n",
       "      <td>90</td>\n",
       "      <td>1.10</td>\n",
       "      <td>308</td>\n",
       "      <td>100</td>\n",
       "      <td>804</td>\n",
       "      <td>Clouds</td>\n",
       "      <td>1979</td>\n",
       "      <td>1</td>\n",
       "      <td>1</td>\n",
       "      <td>3</td>\n",
       "    </tr>\n",
       "    <tr>\n",
       "      <th>4</th>\n",
       "      <td>20.47</td>\n",
       "      <td>20.97</td>\n",
       "      <td>19.57</td>\n",
       "      <td>21.51</td>\n",
       "      <td>1012</td>\n",
       "      <td>92</td>\n",
       "      <td>1.60</td>\n",
       "      <td>215</td>\n",
       "      <td>100</td>\n",
       "      <td>500</td>\n",
       "      <td>Rain</td>\n",
       "      <td>1979</td>\n",
       "      <td>1</td>\n",
       "      <td>1</td>\n",
       "      <td>4</td>\n",
       "    </tr>\n",
       "  </tbody>\n",
       "</table>\n",
       "</div>"
      ],
      "text/plain": [
       "    temp  temp_feels_like  temp_min  temp_max  pressure  humidity  wind_speed  \\\n",
       "0  23.55            24.08     23.02     24.66      1011        81        1.28   \n",
       "1  23.65            24.19     22.98     24.67      1011        81        1.32   \n",
       "2  23.53            24.13     22.68     24.54      1012        84        1.35   \n",
       "3  20.61            21.08     20.00     21.74      1012        90        1.10   \n",
       "4  20.47            20.97     19.57     21.51      1012        92        1.60   \n",
       "\n",
       "   wind_deg  clouds_all  weather_id weather_main  year  month  day  hour  \n",
       "0         9         100         804       Clouds  1979      1    1     0  \n",
       "1         9         100         804       Clouds  1979      1    1     1  \n",
       "2         2         100         804       Clouds  1979      1    1     2  \n",
       "3       308         100         804       Clouds  1979      1    1     3  \n",
       "4       215         100         500         Rain  1979      1    1     4  "
      ]
     },
     "execution_count": 138,
     "metadata": {},
     "output_type": "execute_result"
    }
   ],
   "source": [
    "df_all.head(5)"
   ]
  },
  {
   "cell_type": "markdown",
   "id": "06132cfa-1b57-4cef-a03d-67fb7de8f5fd",
   "metadata": {},
   "source": [
    "## Análise dos Dados"
   ]
  },
  {
   "cell_type": "code",
   "execution_count": 139,
   "id": "45ff1d49-bf97-447d-b079-cb8c8cb0e071",
   "metadata": {
    "execution": {
     "iopub.execute_input": "2025-10-06T21:53:18.993985Z",
     "iopub.status.busy": "2025-10-06T21:53:18.993488Z",
     "iopub.status.idle": "2025-10-06T21:53:19.221454Z",
     "shell.execute_reply": "2025-10-06T21:53:19.220593Z",
     "shell.execute_reply.started": "2025-10-06T21:53:18.993962Z"
    }
   },
   "outputs": [
    {
     "data": {
      "text/html": [
       "<div>\n",
       "<style scoped>\n",
       "    .dataframe tbody tr th:only-of-type {\n",
       "        vertical-align: middle;\n",
       "    }\n",
       "\n",
       "    .dataframe tbody tr th {\n",
       "        vertical-align: top;\n",
       "    }\n",
       "\n",
       "    .dataframe thead th {\n",
       "        text-align: right;\n",
       "    }\n",
       "</style>\n",
       "<table border=\"1\" class=\"dataframe\">\n",
       "  <thead>\n",
       "    <tr style=\"text-align: right;\">\n",
       "      <th></th>\n",
       "      <th>temp</th>\n",
       "      <th>temp_feels_like</th>\n",
       "      <th>temp_min</th>\n",
       "      <th>temp_max</th>\n",
       "      <th>pressure</th>\n",
       "      <th>humidity</th>\n",
       "      <th>wind_speed</th>\n",
       "      <th>wind_deg</th>\n",
       "      <th>clouds_all</th>\n",
       "      <th>weather_id</th>\n",
       "      <th>year</th>\n",
       "      <th>month</th>\n",
       "      <th>day</th>\n",
       "      <th>hour</th>\n",
       "    </tr>\n",
       "  </thead>\n",
       "  <tbody>\n",
       "    <tr>\n",
       "      <th>count</th>\n",
       "      <td>419946.000000</td>\n",
       "      <td>419946.000000</td>\n",
       "      <td>419946.000000</td>\n",
       "      <td>419946.000000</td>\n",
       "      <td>419946.000000</td>\n",
       "      <td>419946.000000</td>\n",
       "      <td>419946.000000</td>\n",
       "      <td>419946.000000</td>\n",
       "      <td>419946.000000</td>\n",
       "      <td>419946.000000</td>\n",
       "      <td>419946.000000</td>\n",
       "      <td>419946.000000</td>\n",
       "      <td>419946.000000</td>\n",
       "      <td>419946.000000</td>\n",
       "    </tr>\n",
       "    <tr>\n",
       "      <th>mean</th>\n",
       "      <td>20.158747</td>\n",
       "      <td>20.279639</td>\n",
       "      <td>19.430069</td>\n",
       "      <td>20.850596</td>\n",
       "      <td>1016.435494</td>\n",
       "      <td>77.389417</td>\n",
       "      <td>3.162035</td>\n",
       "      <td>159.996747</td>\n",
       "      <td>56.588261</td>\n",
       "      <td>724.838789</td>\n",
       "      <td>2002.072676</td>\n",
       "      <td>6.496104</td>\n",
       "      <td>15.727529</td>\n",
       "      <td>11.546666</td>\n",
       "    </tr>\n",
       "    <tr>\n",
       "      <th>std</th>\n",
       "      <td>4.502673</td>\n",
       "      <td>4.784803</td>\n",
       "      <td>4.502173</td>\n",
       "      <td>4.554047</td>\n",
       "      <td>4.399660</td>\n",
       "      <td>16.075120</td>\n",
       "      <td>1.765145</td>\n",
       "      <td>101.880909</td>\n",
       "      <td>38.896072</td>\n",
       "      <td>131.767335</td>\n",
       "      <td>13.464607</td>\n",
       "      <td>3.452999</td>\n",
       "      <td>8.797021</td>\n",
       "      <td>6.939627</td>\n",
       "    </tr>\n",
       "    <tr>\n",
       "      <th>min</th>\n",
       "      <td>0.880000</td>\n",
       "      <td>-1.540000</td>\n",
       "      <td>0.880000</td>\n",
       "      <td>2.180000</td>\n",
       "      <td>1001.000000</td>\n",
       "      <td>11.000000</td>\n",
       "      <td>0.000000</td>\n",
       "      <td>0.000000</td>\n",
       "      <td>0.000000</td>\n",
       "      <td>200.000000</td>\n",
       "      <td>1979.000000</td>\n",
       "      <td>1.000000</td>\n",
       "      <td>1.000000</td>\n",
       "      <td>0.000000</td>\n",
       "    </tr>\n",
       "    <tr>\n",
       "      <th>25%</th>\n",
       "      <td>17.010000</td>\n",
       "      <td>16.990000</td>\n",
       "      <td>16.270000</td>\n",
       "      <td>17.640000</td>\n",
       "      <td>1013.000000</td>\n",
       "      <td>68.000000</td>\n",
       "      <td>2.060000</td>\n",
       "      <td>90.000000</td>\n",
       "      <td>20.000000</td>\n",
       "      <td>701.000000</td>\n",
       "      <td>1990.000000</td>\n",
       "      <td>3.000000</td>\n",
       "      <td>8.000000</td>\n",
       "      <td>6.000000</td>\n",
       "    </tr>\n",
       "    <tr>\n",
       "      <th>50%</th>\n",
       "      <td>20.060000</td>\n",
       "      <td>20.300000</td>\n",
       "      <td>19.350000</td>\n",
       "      <td>20.770000</td>\n",
       "      <td>1016.000000</td>\n",
       "      <td>82.000000</td>\n",
       "      <td>3.090000</td>\n",
       "      <td>141.000000</td>\n",
       "      <td>75.000000</td>\n",
       "      <td>800.000000</td>\n",
       "      <td>2002.000000</td>\n",
       "      <td>7.000000</td>\n",
       "      <td>16.000000</td>\n",
       "      <td>12.000000</td>\n",
       "    </tr>\n",
       "    <tr>\n",
       "      <th>75%</th>\n",
       "      <td>23.000000</td>\n",
       "      <td>23.270000</td>\n",
       "      <td>22.180000</td>\n",
       "      <td>23.760000</td>\n",
       "      <td>1019.000000</td>\n",
       "      <td>89.000000</td>\n",
       "      <td>4.120000</td>\n",
       "      <td>206.000000</td>\n",
       "      <td>98.000000</td>\n",
       "      <td>803.000000</td>\n",
       "      <td>2014.000000</td>\n",
       "      <td>9.000000</td>\n",
       "      <td>23.000000</td>\n",
       "      <td>18.000000</td>\n",
       "    </tr>\n",
       "    <tr>\n",
       "      <th>max</th>\n",
       "      <td>38.320000</td>\n",
       "      <td>40.330000</td>\n",
       "      <td>38.030000</td>\n",
       "      <td>38.900000</td>\n",
       "      <td>1034.000000</td>\n",
       "      <td>100.000000</td>\n",
       "      <td>30.800000</td>\n",
       "      <td>360.000000</td>\n",
       "      <td>100.000000</td>\n",
       "      <td>804.000000</td>\n",
       "      <td>2025.000000</td>\n",
       "      <td>12.000000</td>\n",
       "      <td>31.000000</td>\n",
       "      <td>23.000000</td>\n",
       "    </tr>\n",
       "  </tbody>\n",
       "</table>\n",
       "</div>"
      ],
      "text/plain": [
       "                temp  temp_feels_like       temp_min       temp_max  \\\n",
       "count  419946.000000    419946.000000  419946.000000  419946.000000   \n",
       "mean       20.158747        20.279639      19.430069      20.850596   \n",
       "std         4.502673         4.784803       4.502173       4.554047   \n",
       "min         0.880000        -1.540000       0.880000       2.180000   \n",
       "25%        17.010000        16.990000      16.270000      17.640000   \n",
       "50%        20.060000        20.300000      19.350000      20.770000   \n",
       "75%        23.000000        23.270000      22.180000      23.760000   \n",
       "max        38.320000        40.330000      38.030000      38.900000   \n",
       "\n",
       "            pressure       humidity     wind_speed       wind_deg  \\\n",
       "count  419946.000000  419946.000000  419946.000000  419946.000000   \n",
       "mean     1016.435494      77.389417       3.162035     159.996747   \n",
       "std         4.399660      16.075120       1.765145     101.880909   \n",
       "min      1001.000000      11.000000       0.000000       0.000000   \n",
       "25%      1013.000000      68.000000       2.060000      90.000000   \n",
       "50%      1016.000000      82.000000       3.090000     141.000000   \n",
       "75%      1019.000000      89.000000       4.120000     206.000000   \n",
       "max      1034.000000     100.000000      30.800000     360.000000   \n",
       "\n",
       "          clouds_all     weather_id           year          month  \\\n",
       "count  419946.000000  419946.000000  419946.000000  419946.000000   \n",
       "mean       56.588261     724.838789    2002.072676       6.496104   \n",
       "std        38.896072     131.767335      13.464607       3.452999   \n",
       "min         0.000000     200.000000    1979.000000       1.000000   \n",
       "25%        20.000000     701.000000    1990.000000       3.000000   \n",
       "50%        75.000000     800.000000    2002.000000       7.000000   \n",
       "75%        98.000000     803.000000    2014.000000       9.000000   \n",
       "max       100.000000     804.000000    2025.000000      12.000000   \n",
       "\n",
       "                 day           hour  \n",
       "count  419946.000000  419946.000000  \n",
       "mean       15.727529      11.546666  \n",
       "std         8.797021       6.939627  \n",
       "min         1.000000       0.000000  \n",
       "25%         8.000000       6.000000  \n",
       "50%        16.000000      12.000000  \n",
       "75%        23.000000      18.000000  \n",
       "max        31.000000      23.000000  "
      ]
     },
     "execution_count": 139,
     "metadata": {},
     "output_type": "execute_result"
    }
   ],
   "source": [
    "df_all.describe()"
   ]
  },
  {
   "cell_type": "code",
   "execution_count": 140,
   "id": "387eb1bd-bcd6-423f-acbd-c2f9c1d06f26",
   "metadata": {
    "execution": {
     "iopub.execute_input": "2025-10-06T21:54:30.546837Z",
     "iopub.status.busy": "2025-10-06T21:54:30.546564Z",
     "iopub.status.idle": "2025-10-06T21:54:30.577381Z",
     "shell.execute_reply": "2025-10-06T21:54:30.576634Z",
     "shell.execute_reply.started": "2025-10-06T21:54:30.546815Z"
    }
   },
   "outputs": [
    {
     "data": {
      "text/plain": [
       "temp               0\n",
       "temp_feels_like    0\n",
       "temp_min           0\n",
       "temp_max           0\n",
       "pressure           0\n",
       "humidity           0\n",
       "wind_speed         0\n",
       "wind_deg           0\n",
       "clouds_all         0\n",
       "weather_id         0\n",
       "weather_main       0\n",
       "year               0\n",
       "month              0\n",
       "day                0\n",
       "hour               0\n",
       "dtype: int64"
      ]
     },
     "execution_count": 140,
     "metadata": {},
     "output_type": "execute_result"
    }
   ],
   "source": [
    "df_all.isnull().sum()"
   ]
  },
  {
   "cell_type": "code",
   "execution_count": 141,
   "id": "24a919f0-cc34-4209-ac87-0b55714e1674",
   "metadata": {
    "execution": {
     "iopub.execute_input": "2025-10-06T21:54:55.115430Z",
     "iopub.status.busy": "2025-10-06T21:54:55.115146Z",
     "iopub.status.idle": "2025-10-06T21:54:55.146432Z",
     "shell.execute_reply": "2025-10-06T21:54:55.145720Z",
     "shell.execute_reply.started": "2025-10-06T21:54:55.115407Z"
    }
   },
   "outputs": [
    {
     "data": {
      "text/plain": [
       "weather_main\n",
       "Clouds          195254\n",
       "Clear            83368\n",
       "Rain             72629\n",
       "Mist             42137\n",
       "Haze             16433\n",
       "Drizzle           5317\n",
       "Thunderstorm      3684\n",
       "Fog                920\n",
       "Smoke              182\n",
       "Tornado             10\n",
       "Dust                 9\n",
       "Squall               3\n",
       "Name: count, dtype: int64"
      ]
     },
     "execution_count": 141,
     "metadata": {},
     "output_type": "execute_result"
    }
   ],
   "source": [
    "df_all[\"weather_main\"].value_counts()"
   ]
  },
  {
   "cell_type": "code",
   "execution_count": 142,
   "id": "8aa071ce-b5ea-4927-87e8-b3e522140969",
   "metadata": {
    "execution": {
     "iopub.execute_input": "2025-10-06T22:04:58.843555Z",
     "iopub.status.busy": "2025-10-06T22:04:58.843288Z",
     "iopub.status.idle": "2025-10-06T22:04:58.871228Z",
     "shell.execute_reply": "2025-10-06T22:04:58.870637Z",
     "shell.execute_reply.started": "2025-10-06T22:04:58.843534Z"
    }
   },
   "outputs": [
    {
     "name": "stdout",
     "output_type": "stream",
     "text": [
      "{'Clear': 800, 'Clouds': 804, 'Drizzle': 300, 'Dust': 761, 'Fog': 741, 'Haze': 721, 'Mist': 701, 'Rain': 500, 'Smoke': 711, 'Squall': 771, 'Thunderstorm': 201, 'Tornado': 781}\n"
     ]
    }
   ],
   "source": [
    "# Criando o mapeamento\n",
    "weather_map = df_all.groupby('weather_main')['weather_id'].first().to_dict()\n",
    "print(weather_map)\n"
   ]
  },
  {
   "cell_type": "markdown",
   "id": "f67b461a-add8-4d00-8cde-dcdb0afc1593",
   "metadata": {},
   "source": [
    "## Feature Enginnering"
   ]
  },
  {
   "cell_type": "markdown",
   "id": "8929830c-7b7e-4144-9229-6dada436f953",
   "metadata": {},
   "source": [
    "### Adiciona as colunas relacionas a horarios especificos (11h, 16h e 21h)"
   ]
  },
  {
   "cell_type": "code",
   "execution_count": 152,
   "id": "c723436f-e0c9-4bd8-860f-c0f207799e11",
   "metadata": {
    "execution": {
     "iopub.execute_input": "2025-10-06T22:29:04.285447Z",
     "iopub.status.busy": "2025-10-06T22:29:04.285167Z",
     "iopub.status.idle": "2025-10-06T22:29:04.345510Z",
     "shell.execute_reply": "2025-10-06T22:29:04.343875Z",
     "shell.execute_reply.started": "2025-10-06T22:29:04.285425Z"
    }
   },
   "outputs": [],
   "source": [
    "# Filtra horas específicas\n",
    "df_6h = df_all[df_all[\"hour\"] == 6]\n",
    "df_11h = df_all[df_all[\"hour\"] == 11]\n",
    "df_16h = df_all[df_all[\"hour\"] == 16]\n",
    "df_21h = df_all[df_all[\"hour\"] == 21]\n",
    "\n",
    "# Selecionar apenas colunas necessárias\n",
    "features_6h = [\"year\",\"month\",\"day\",\"temp\",\"humidity\",\"pressure\", \"weather_id\", \"clouds_all\", \"wind_speed\", \"wind_deg\",\n",
    "              \"temp_min\", \"temp_max\", \"temp_feels_like\"]\n",
    "targets_temp = [\"temp\",\"hour\"]\n",
    "targets_weather = [\"weather_id\",\"hour\"]\n",
    "\n",
    "df_6h = df_6h[features_6h]\n",
    "df_11h = df_11h[[\"year\",\"month\",\"day\",\"temp\",\"weather_id\"]]\n",
    "df_11h = df_11h.rename(columns={\"temp\": \"temp_11h\", \"weather_id\": \"weather_id_11h\"})\n",
    "df_16h = df_16h[[\"year\",\"month\",\"day\",\"temp\",\"weather_id\"]]\n",
    "df_16h = df_16h.rename(columns={\"temp\": \"temp_16h\", \"weather_id\": \"weather_id_16h\"})\n",
    "df_21h = df_21h[[\"year\",\"month\",\"day\",\"temp\",\"weather_id\"]]\n",
    "df_21h = df_21h.rename(columns={\"temp\": \"temp_21h\", \"weather_id\": \"weather_id_21h\"})\n",
    "\n",
    "# Merge pelo dia\n",
    "df_model = df_6h.merge(df_11h, on=[\"year\",\"month\",\"day\"])\n",
    "df_model = df_model.merge(df_16h, on=[\"year\",\"month\",\"day\"])\n",
    "df_model = df_model.merge(df_21h, on=[\"year\",\"month\",\"day\"])\n"
   ]
  },
  {
   "cell_type": "code",
   "execution_count": 157,
   "id": "a0c296f4-e1f1-4e9c-a1f9-d187d66a1e2d",
   "metadata": {
    "execution": {
     "iopub.execute_input": "2025-10-06T22:35:12.568158Z",
     "iopub.status.busy": "2025-10-06T22:35:12.567883Z",
     "iopub.status.idle": "2025-10-06T22:35:12.639414Z",
     "shell.execute_reply": "2025-10-06T22:35:12.638551Z",
     "shell.execute_reply.started": "2025-10-06T22:35:12.568136Z"
    }
   },
   "outputs": [
    {
     "name": "stdout",
     "output_type": "stream",
     "text": [
      "<class 'pandas.core.frame.DataFrame'>\n",
      "RangeIndex: 18991 entries, 0 to 18990\n",
      "Data columns (total 19 columns):\n",
      " #   Column           Non-Null Count  Dtype  \n",
      "---  ------           --------------  -----  \n",
      " 0   year             18991 non-null  int64  \n",
      " 1   month            18991 non-null  int64  \n",
      " 2   day              18991 non-null  int64  \n",
      " 3   temp             18991 non-null  float64\n",
      " 4   humidity         18991 non-null  int64  \n",
      " 5   pressure         18991 non-null  int64  \n",
      " 6   weather_id       18991 non-null  int64  \n",
      " 7   clouds_all       18991 non-null  int64  \n",
      " 8   wind_speed       18991 non-null  float64\n",
      " 9   wind_deg         18991 non-null  int64  \n",
      " 10  temp_min         18991 non-null  float64\n",
      " 11  temp_max         18991 non-null  float64\n",
      " 12  temp_feels_like  18991 non-null  float64\n",
      " 13  temp_11h         18991 non-null  float64\n",
      " 14  weather_id_11h   18991 non-null  int64  \n",
      " 15  temp_16h         18991 non-null  float64\n",
      " 16  weather_id_16h   18991 non-null  int64  \n",
      " 17  temp_21h         18991 non-null  float64\n",
      " 18  weather_id_21h   18991 non-null  int64  \n",
      "dtypes: float64(8), int64(11)\n",
      "memory usage: 2.8 MB\n"
     ]
    },
    {
     "data": {
      "text/html": [
       "<div>\n",
       "<style scoped>\n",
       "    .dataframe tbody tr th:only-of-type {\n",
       "        vertical-align: middle;\n",
       "    }\n",
       "\n",
       "    .dataframe tbody tr th {\n",
       "        vertical-align: top;\n",
       "    }\n",
       "\n",
       "    .dataframe thead th {\n",
       "        text-align: right;\n",
       "    }\n",
       "</style>\n",
       "<table border=\"1\" class=\"dataframe\">\n",
       "  <thead>\n",
       "    <tr style=\"text-align: right;\">\n",
       "      <th></th>\n",
       "      <th>year</th>\n",
       "      <th>month</th>\n",
       "      <th>day</th>\n",
       "      <th>temp</th>\n",
       "      <th>humidity</th>\n",
       "      <th>pressure</th>\n",
       "      <th>weather_id</th>\n",
       "      <th>clouds_all</th>\n",
       "      <th>wind_speed</th>\n",
       "      <th>wind_deg</th>\n",
       "      <th>temp_min</th>\n",
       "      <th>temp_max</th>\n",
       "      <th>temp_feels_like</th>\n",
       "      <th>temp_11h</th>\n",
       "      <th>weather_id_11h</th>\n",
       "      <th>temp_16h</th>\n",
       "      <th>weather_id_16h</th>\n",
       "      <th>temp_21h</th>\n",
       "      <th>weather_id_21h</th>\n",
       "    </tr>\n",
       "  </thead>\n",
       "  <tbody>\n",
       "    <tr>\n",
       "      <th>count</th>\n",
       "      <td>18991.000000</td>\n",
       "      <td>18991.000000</td>\n",
       "      <td>18991.000000</td>\n",
       "      <td>18991.000000</td>\n",
       "      <td>18991.000000</td>\n",
       "      <td>18991.000000</td>\n",
       "      <td>18991.000000</td>\n",
       "      <td>18991.000000</td>\n",
       "      <td>18991.000000</td>\n",
       "      <td>18991.000000</td>\n",
       "      <td>18991.000000</td>\n",
       "      <td>18991.000000</td>\n",
       "      <td>18991.000000</td>\n",
       "      <td>18991.000000</td>\n",
       "      <td>18991.000000</td>\n",
       "      <td>18991.000000</td>\n",
       "      <td>18991.000000</td>\n",
       "      <td>18991.000000</td>\n",
       "      <td>18991.000000</td>\n",
       "    </tr>\n",
       "    <tr>\n",
       "      <th>mean</th>\n",
       "      <td>2002.707756</td>\n",
       "      <td>6.484545</td>\n",
       "      <td>15.704650</td>\n",
       "      <td>17.482156</td>\n",
       "      <td>87.853931</td>\n",
       "      <td>1016.003949</td>\n",
       "      <td>734.548260</td>\n",
       "      <td>59.104997</td>\n",
       "      <td>2.327881</td>\n",
       "      <td>127.864620</td>\n",
       "      <td>16.755738</td>\n",
       "      <td>18.167592</td>\n",
       "      <td>17.567089</td>\n",
       "      <td>19.185532</td>\n",
       "      <td>735.376547</td>\n",
       "      <td>24.063725</td>\n",
       "      <td>691.358380</td>\n",
       "      <td>20.878141</td>\n",
       "      <td>701.954189</td>\n",
       "    </tr>\n",
       "    <tr>\n",
       "      <th>std</th>\n",
       "      <td>13.340298</td>\n",
       "      <td>3.478144</td>\n",
       "      <td>8.770998</td>\n",
       "      <td>3.301751</td>\n",
       "      <td>8.618082</td>\n",
       "      <td>4.332973</td>\n",
       "      <td>113.010819</td>\n",
       "      <td>40.279382</td>\n",
       "      <td>1.538949</td>\n",
       "      <td>100.672289</td>\n",
       "      <td>3.311883</td>\n",
       "      <td>3.310247</td>\n",
       "      <td>3.629733</td>\n",
       "      <td>3.762267</td>\n",
       "      <td>120.827197</td>\n",
       "      <td>4.477194</td>\n",
       "      <td>149.465523</td>\n",
       "      <td>3.951282</td>\n",
       "      <td>147.683419</td>\n",
       "    </tr>\n",
       "    <tr>\n",
       "      <th>min</th>\n",
       "      <td>1979.000000</td>\n",
       "      <td>1.000000</td>\n",
       "      <td>1.000000</td>\n",
       "      <td>3.370000</td>\n",
       "      <td>30.000000</td>\n",
       "      <td>1002.000000</td>\n",
       "      <td>200.000000</td>\n",
       "      <td>0.000000</td>\n",
       "      <td>0.000000</td>\n",
       "      <td>0.000000</td>\n",
       "      <td>2.060000</td>\n",
       "      <td>4.260000</td>\n",
       "      <td>0.080000</td>\n",
       "      <td>4.870000</td>\n",
       "      <td>200.000000</td>\n",
       "      <td>8.770000</td>\n",
       "      <td>200.000000</td>\n",
       "      <td>7.050000</td>\n",
       "      <td>200.000000</td>\n",
       "    </tr>\n",
       "    <tr>\n",
       "      <th>25%</th>\n",
       "      <td>1991.000000</td>\n",
       "      <td>3.000000</td>\n",
       "      <td>8.000000</td>\n",
       "      <td>15.295000</td>\n",
       "      <td>84.000000</td>\n",
       "      <td>1013.000000</td>\n",
       "      <td>701.000000</td>\n",
       "      <td>20.000000</td>\n",
       "      <td>1.500000</td>\n",
       "      <td>53.000000</td>\n",
       "      <td>14.480000</td>\n",
       "      <td>15.960000</td>\n",
       "      <td>15.185000</td>\n",
       "      <td>16.520000</td>\n",
       "      <td>701.000000</td>\n",
       "      <td>21.010000</td>\n",
       "      <td>500.000000</td>\n",
       "      <td>18.220000</td>\n",
       "      <td>701.000000</td>\n",
       "    </tr>\n",
       "    <tr>\n",
       "      <th>50%</th>\n",
       "      <td>2004.000000</td>\n",
       "      <td>7.000000</td>\n",
       "      <td>16.000000</td>\n",
       "      <td>17.760000</td>\n",
       "      <td>89.000000</td>\n",
       "      <td>1016.000000</td>\n",
       "      <td>800.000000</td>\n",
       "      <td>75.000000</td>\n",
       "      <td>2.110000</td>\n",
       "      <td>120.000000</td>\n",
       "      <td>17.070000</td>\n",
       "      <td>18.400000</td>\n",
       "      <td>17.900000</td>\n",
       "      <td>19.510000</td>\n",
       "      <td>800.000000</td>\n",
       "      <td>24.490000</td>\n",
       "      <td>800.000000</td>\n",
       "      <td>21.000000</td>\n",
       "      <td>800.000000</td>\n",
       "    </tr>\n",
       "    <tr>\n",
       "      <th>75%</th>\n",
       "      <td>2014.000000</td>\n",
       "      <td>10.000000</td>\n",
       "      <td>23.000000</td>\n",
       "      <td>20.120000</td>\n",
       "      <td>94.000000</td>\n",
       "      <td>1019.000000</td>\n",
       "      <td>803.000000</td>\n",
       "      <td>100.000000</td>\n",
       "      <td>3.100000</td>\n",
       "      <td>170.000000</td>\n",
       "      <td>19.360000</td>\n",
       "      <td>20.720000</td>\n",
       "      <td>20.480000</td>\n",
       "      <td>22.010000</td>\n",
       "      <td>803.000000</td>\n",
       "      <td>27.400000</td>\n",
       "      <td>803.000000</td>\n",
       "      <td>23.520000</td>\n",
       "      <td>803.000000</td>\n",
       "    </tr>\n",
       "    <tr>\n",
       "      <th>max</th>\n",
       "      <td>2025.000000</td>\n",
       "      <td>12.000000</td>\n",
       "      <td>31.000000</td>\n",
       "      <td>27.620000</td>\n",
       "      <td>100.000000</td>\n",
       "      <td>1032.000000</td>\n",
       "      <td>804.000000</td>\n",
       "      <td>100.000000</td>\n",
       "      <td>27.800000</td>\n",
       "      <td>360.000000</td>\n",
       "      <td>27.060000</td>\n",
       "      <td>29.290000</td>\n",
       "      <td>28.250000</td>\n",
       "      <td>29.780000</td>\n",
       "      <td>804.000000</td>\n",
       "      <td>36.770000</td>\n",
       "      <td>804.000000</td>\n",
       "      <td>35.220000</td>\n",
       "      <td>804.000000</td>\n",
       "    </tr>\n",
       "  </tbody>\n",
       "</table>\n",
       "</div>"
      ],
      "text/plain": [
       "               year         month           day          temp      humidity  \\\n",
       "count  18991.000000  18991.000000  18991.000000  18991.000000  18991.000000   \n",
       "mean    2002.707756      6.484545     15.704650     17.482156     87.853931   \n",
       "std       13.340298      3.478144      8.770998      3.301751      8.618082   \n",
       "min     1979.000000      1.000000      1.000000      3.370000     30.000000   \n",
       "25%     1991.000000      3.000000      8.000000     15.295000     84.000000   \n",
       "50%     2004.000000      7.000000     16.000000     17.760000     89.000000   \n",
       "75%     2014.000000     10.000000     23.000000     20.120000     94.000000   \n",
       "max     2025.000000     12.000000     31.000000     27.620000    100.000000   \n",
       "\n",
       "           pressure    weather_id    clouds_all    wind_speed      wind_deg  \\\n",
       "count  18991.000000  18991.000000  18991.000000  18991.000000  18991.000000   \n",
       "mean    1016.003949    734.548260     59.104997      2.327881    127.864620   \n",
       "std        4.332973    113.010819     40.279382      1.538949    100.672289   \n",
       "min     1002.000000    200.000000      0.000000      0.000000      0.000000   \n",
       "25%     1013.000000    701.000000     20.000000      1.500000     53.000000   \n",
       "50%     1016.000000    800.000000     75.000000      2.110000    120.000000   \n",
       "75%     1019.000000    803.000000    100.000000      3.100000    170.000000   \n",
       "max     1032.000000    804.000000    100.000000     27.800000    360.000000   \n",
       "\n",
       "           temp_min      temp_max  temp_feels_like      temp_11h  \\\n",
       "count  18991.000000  18991.000000     18991.000000  18991.000000   \n",
       "mean      16.755738     18.167592        17.567089     19.185532   \n",
       "std        3.311883      3.310247         3.629733      3.762267   \n",
       "min        2.060000      4.260000         0.080000      4.870000   \n",
       "25%       14.480000     15.960000        15.185000     16.520000   \n",
       "50%       17.070000     18.400000        17.900000     19.510000   \n",
       "75%       19.360000     20.720000        20.480000     22.010000   \n",
       "max       27.060000     29.290000        28.250000     29.780000   \n",
       "\n",
       "       weather_id_11h      temp_16h  weather_id_16h      temp_21h  \\\n",
       "count    18991.000000  18991.000000    18991.000000  18991.000000   \n",
       "mean       735.376547     24.063725      691.358380     20.878141   \n",
       "std        120.827197      4.477194      149.465523      3.951282   \n",
       "min        200.000000      8.770000      200.000000      7.050000   \n",
       "25%        701.000000     21.010000      500.000000     18.220000   \n",
       "50%        800.000000     24.490000      800.000000     21.000000   \n",
       "75%        803.000000     27.400000      803.000000     23.520000   \n",
       "max        804.000000     36.770000      804.000000     35.220000   \n",
       "\n",
       "       weather_id_21h  \n",
       "count    18991.000000  \n",
       "mean       701.954189  \n",
       "std        147.683419  \n",
       "min        200.000000  \n",
       "25%        701.000000  \n",
       "50%        800.000000  \n",
       "75%        803.000000  \n",
       "max        804.000000  "
      ]
     },
     "execution_count": 157,
     "metadata": {},
     "output_type": "execute_result"
    }
   ],
   "source": [
    "df_model.info()\n",
    "df_model.head(1)\n",
    "df_model.describe()"
   ]
  },
  {
   "cell_type": "markdown",
   "id": "0c43ac5a-d8a3-4018-8478-69fa6db2e1c5",
   "metadata": {},
   "source": [
    "# Treinamento"
   ]
  },
  {
   "cell_type": "code",
   "execution_count": null,
   "id": "1eff2690-3a5f-4ba3-831e-d9c04a521061",
   "metadata": {},
   "outputs": [],
   "source": [
    "X = df_model[[\"temp\",\"humidity\",\"pressure\",\"clouds_all\",\"wind_speed\",\"wind_deg\",\"temp_min\",\"temp_max\",\"temp_feels_like\"]]\n",
    "y_temp = df_model[[\"temp_11h\",\"temp_16h\",\"temp_21h\"]]\n",
    "y_weather = df_model[[\"weather_id_11h\",\"weather_id_16h\",\"weather_id_21h\"]]\n",
    "\n",
    "\n",
    "X_train, X_test, y_temp_train, y_temp_test, y_weather_train, y_weather_test = train_test_split(\n",
    "    X, y_temp, y_weather, test_size=0.2, random_state=42\n",
    ")\n",
    "\n"
   ]
  }
 ],
 "metadata": {
  "kernelspec": {
   "display_name": "Python 3 (ipykernel)",
   "language": "python",
   "name": "python3"
  },
  "language_info": {
   "codemirror_mode": {
    "name": "ipython",
    "version": 3
   },
   "file_extension": ".py",
   "mimetype": "text/x-python",
   "name": "python",
   "nbconvert_exporter": "python",
   "pygments_lexer": "ipython3",
   "version": "3.12.9"
  }
 },
 "nbformat": 4,
 "nbformat_minor": 5
}
